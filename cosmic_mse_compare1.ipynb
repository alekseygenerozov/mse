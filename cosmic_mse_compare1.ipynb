{
 "cells": [
  {
   "cell_type": "code",
   "execution_count": null,
   "metadata": {},
   "outputs": [],
   "source": [
    "import sys\n",
    "sys.path.append(\"/home/aleksey/software/COSMIC/\")\n",
    "from cosmic.sample.initialbinarytable import InitialBinaryTable\n",
    "# from cosmic.evolve import Evolve\n",
    "from cosmic.evolve import Evolve\n",
    "\n",
    "single_binary = InitialBinaryTable.InitialBinaries(m1=20.6028, m2=1.1019, porb=1000000,\\\n",
    "                                                   ecc=0.721307, tphysf=1000.0, kstar1=1, kstar2=1,\\\n",
    "                                                   metallicity=0.0126)\n",
    "# single_binary = InitialBinaryTable.InitialBinaries(m1=22.6028, m2=1.1019, porb=1000000,\\\n",
    "#                                                    ecc=0.721307, tphysf=1000.0, kstar1=1, kstar2=1,\\\n",
    "#                                                    metallicity=0.0126)\n",
    "BSEDict = {'xi': 1.0, 'bhflag': 1, 'neta': 0.5, 'windflag': 3, 'wdflag': 1,\\\n",
    "           'alpha1': 1.0, 'pts1': 0.05, 'pts2': 0.01, 'pts3': 0.02, 'epsnov': 0.001,\\\n",
    "           'hewind': 0.5, 'ck': 1000, 'bwind': 0.0, 'lambdaf': 0.0, 'mxns': 3.0, 'beta': -1.0,\\\n",
    "           'tflag': 1, 'acc2': 1.5, 'grflag' : 1, 'remnantflag': 4, 'ceflag': 0, 'eddfac': 1.0, 'ifflag': 0,\\\n",
    "           'bconst': 3000, 'sigma': 265.0, 'gamma': -2.0, 'pisn': 45.0,\\\n",
    "           'natal_kick_array' : [[-100.0,-100.0,-100.0,-100.0,0.0], [-100.0,-100.0,-100.0,-100.0,0.0]],\\\n",
    "           'bhsigmafrac' : 1.0, 'polar_kick_angle' : 90,\\\n",
    "           'qcrit_array' : [0.0,0.0,0.0,0.0,0.0,0.0,0.0,0.0,0.0,0.0,0.0,0.0,0.0,0.0,0.0,0.0],\\\n",
    "           'cekickflag' : 2, 'cehestarflag' : 0, 'cemergeflag' : 0, 'ecsn' : 2.25, 'ecsn_mlow' : 1.6,\\\n",
    "           'aic' : 1, 'ussn' : 0, 'sigmadiv' :-20.0, 'qcflag' : 1, 'eddlimflag' : 0,\\\n",
    "           'fprimc_array' : [2.0/21.0,2.0/21.0,2.0/21.0,2.0/21.0,2.0/21.0,2.0/21.0,2.0/21.0,2.0/21.0,2.0/21.0,2.0/21.0,2.0/21.0,2.0/21.0,2.0/21.0,2.0/21.0,2.0/21.0,2.0/21.0],\\\n",
    "           'bhspinflag' : 0, 'bhspinmag' : 0.0, 'rejuv_fac' : 1.0, 'rejuvflag' : 0, 'htpmb' : 1, 'ST_cr' : 1, 'ST_tide' : 1, 'bdecayfac' : 1, 'rembar_massloss' : 0.5, 'kickflag' : 0, 'zsun' : 0.019, 'bhms_coll_flag' : 0, 'don_lim' : -1, 'acc_lim' : -1}\n",
    "bpp, bcm, initC, kick_info = Evolve.evolve(initialbinarytable=single_binary, BSEDict=BSEDict)"
   ]
  },
  {
   "cell_type": "code",
   "execution_count": null,
   "metadata": {},
   "outputs": [],
   "source": [
    "import sys\n",
    "sys.path.append(\"/home/aleksey/software/mse\")\n",
    "import mse\n",
    "from bash_command import bash_command as bc\n",
    "%matplotlib inline\n",
    "\n",
    "\n",
    "bc.bash_command(\"rm tmp.pkl\")\n",
    "ms1=[20.6028, 1.1019]\n",
    "metallicities=[0.0126, 0.0126]\n",
    "eccentricities=[0.721307]\n",
    "inclinations=[0]\n",
    "arguments_of_pericentre=[0]\n",
    "longitudes_of_ascending_node=[0]\n",
    "semimajor_axes=[1e5]\n",
    "mse.Tools.evolve_system(\"fully_nested\", 2, ms1, metallicities, semimajor_axes, eccentricities, inclinations,\\\n",
    "arguments_of_pericentre, longitudes_of_ascending_node, 3e7, 1000, save_data=True,\\\n",
    "plot_filename='tmp', verbose_flag=2)"
   ]
  },
  {
   "cell_type": "code",
   "execution_count": null,
   "metadata": {},
   "outputs": [],
   "source": [
    "import pickle\n",
    "%pylab inline\n",
    "\n",
    "fig,ax=plt.subplots(figsize=(10,10))\n",
    "ax.set_ylim(0,25)\n",
    "ax.set_xlim(1e6,1e9)\n",
    "with open('tmp.pkl', 'rb') as ff:\n",
    "    dat=pickle.load(ff)\n",
    "    ms=[dat['log'][ii]['particles'][0].mass for ii in range(len(dat['log']))]\n",
    "    ts=[dat['log'][ii]['time'] for ii in range(len(dat['log']))]\n",
    "\n",
    "ax.set_xlabel('Time [yr]')\n",
    "ax.set_ylabel('Mass $[M_{\\odot}]$')\n",
    "semilogx(bpp['tphys']*1e6, bpp['mass_1'],'rs-')\n",
    "semilogx(ts,ms,'ko-')"
   ]
  },
  {
   "cell_type": "code",
   "execution_count": null,
   "metadata": {},
   "outputs": [],
   "source": [
    "import matplotlib.pyplot as plt\n",
    "from astropy.io import ascii\n",
    "\n",
    "dat = ascii.read(\"/home/aleksey/software/mse/comp_mse_cosmic_final\")\n",
    "\n",
    "fig,ax = plt.subplots()\n",
    "ax.set_xlabel(r'$m_i [M_{\\odot}]$')\n",
    "ax.set_ylabel(r'$m_{f, mse} / m_{f, cosmic}$')\n",
    "\n",
    "ax.set_ylim(0,4)\n",
    "ax.plot(dat['mi'], dat['mse']/dat['cosmic'])\n",
    "# plot(dat['cosmic'], dat['cosmic'])\n",
    "ax.set_title(\"Remnant flag=4\")"
   ]
  },
  {
   "cell_type": "code",
   "execution_count": null,
   "metadata": {},
   "outputs": [],
   "source": []
  }
 ],
 "metadata": {
  "kernelspec": {
   "display_name": "Python 3 (ipykernel)",
   "language": "python",
   "name": "python3"
  },
  "language_info": {
   "codemirror_mode": {
    "name": "ipython",
    "version": 3
   },
   "file_extension": ".py",
   "mimetype": "text/x-python",
   "name": "python",
   "nbconvert_exporter": "python",
   "pygments_lexer": "ipython3",
   "version": "3.10.9"
  }
 },
 "nbformat": 4,
 "nbformat_minor": 2
}
